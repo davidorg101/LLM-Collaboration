{
  "cells": [
    {
      "cell_type": "markdown",
      "metadata": {
        "id": "KGiSgZwCm48z"
      },
      "source": [
        "# Individual Groups:"
      ]
    },
    {
      "cell_type": "code",
      "execution_count": null,
      "metadata": {
        "id": "Tvc2PovchjmG"
      },
      "outputs": [],
      "source": [
        "pip install -q OpenAI"
      ]
    },
    {
      "cell_type": "code",
      "execution_count": 1,
      "metadata": {
        "id": "0SONJJKM4G2Q"
      },
      "outputs": [],
      "source": [
        "pip install -q google-generativeai"
      ]
    },
    {
      "cell_type": "code",
      "execution_count": null,
      "metadata": {
        "id": "RTRwpNniOZH8"
      },
      "outputs": [],
      "source": [
        "pip install -q anthropic"
      ]
    },
    {
      "cell_type": "code",
      "execution_count": 8,
      "metadata": {
        "id": "lQau3U6rm0aG"
      },
      "outputs": [],
      "source": [
        "import os\n",
        "import csv\n",
        "import time\n",
        "import json\n",
        "import re"
      ]
    },
    {
      "cell_type": "markdown",
      "metadata": {
        "id": "ICmr8kpgorS1"
      },
      "source": [
        "# Read test parts and answer key"
      ]
    },
    {
      "cell_type": "markdown",
      "metadata": {
        "id": "fI7RJC0ongsk"
      },
      "source": [
        "## Part 1:"
      ]
    },
    {
      "cell_type": "code",
      "execution_count": 6,
      "metadata": {
        "id": "xLZVddWwnTKz"
      },
      "outputs": [],
      "source": [
        "test_path =\"/content/USHistoryAnswerKey.txt\"\n",
        "try:\n",
        "    with open(test_path, 'r', encoding='utf-8') as file:\n",
        "         physics_test_part1 = file.read()\n",
        "except UnicodeDecodeError:\n",
        "    with open(test_path, 'r', encoding='cp1252') as file:\n",
        "         physics_test_part1 = file.read()"
      ]
    },
    {
      "cell_type": "markdown",
      "metadata": {
        "id": "1LZXeIMBnmLj"
      },
      "source": [
        "## Part 2:"
      ]
    },
    {
      "cell_type": "code",
      "execution_count": null,
      "metadata": {
        "id": "TAMP4FN0ni-9"
      },
      "outputs": [],
      "source": [
        "test_path = \"/content/Physicstestpart2.txt\"\n",
        "try:\n",
        "    with open(test_path, 'r', encoding='utf-8') as file:\n",
        "        physics_test_part2 = file.read()\n",
        "except UnicodeDecodeError:\n",
        "    with open(test_path, 'r', encoding='cp1252') as file:\n",
        "        physics_test_part2 = file.read()"
      ]
    },
    {
      "cell_type": "markdown",
      "metadata": {
        "id": "B0nbE-mhoE0a"
      },
      "source": [
        "## Part 3 (Don't run if n/a):"
      ]
    },
    {
      "cell_type": "code",
      "execution_count": null,
      "metadata": {
        "id": "Wq0V3DDNoD7B"
      },
      "outputs": [],
      "source": [
        "test_path = \"/content/Physicstestpart3.txt\"\n",
        "try:\n",
        "    with open(test_path, 'r', encoding='utf-8') as file:\n",
        "        physics_test_part3 = file.read()\n",
        "except UnicodeDecodeError:\n",
        "    with open(test_path, 'r', encoding='cp1252') as file:\n",
        "          physics_test_part3 = file.read()"
      ]
    },
    {
      "cell_type": "markdown",
      "metadata": {
        "id": "JW_byH_xob3f"
      },
      "source": [
        "## Part 4 (Don't run if n/a):"
      ]
    },
    {
      "cell_type": "code",
      "execution_count": null,
      "metadata": {
        "id": "_Ai8YbNLoZmL"
      },
      "outputs": [],
      "source": [
        "test_path = \"/content/Physicstestpart4.txt\"\n",
        "try:\n",
        "    with open(test_path, 'r', encoding='utf-8') as file:\n",
        "         physics_test_part4 = file.read()\n",
        "except UnicodeDecodeError:\n",
        "    with open(test_path, 'r', encoding='cp1252') as file:\n",
        "        physics_test_part4 = file.read()"
      ]
    },
    {
      "cell_type": "markdown",
      "metadata": {
        "id": "OAwMgVyzzbF5"
      },
      "source": [
        "## Answer Key:"
      ]
    },
    {
      "cell_type": "code",
      "execution_count": 7,
      "metadata": {
        "id": "e0Pjynw-ocjN"
      },
      "outputs": [],
      "source": [
        "Answers_path = \"/content/USHistorytest.txt\"\n",
        "try:\n",
        "    with open(Answers_path, 'r', encoding='utf-8') as file:\n",
        "         physics_answers = file.read()\n",
        "except UnicodeDecodeError:\n",
        "    with open(Answers_path, 'r', encoding='cp1252') as file:\n",
        "        physics_answers = file.read()"
      ]
    },
    {
      "cell_type": "markdown",
      "metadata": {
        "id": "Bu7uCU350c6R"
      },
      "source": [
        "# LLMs"
      ]
    },
    {
      "cell_type": "markdown",
      "metadata": {
        "id": "8St4uaGEo4O9"
      },
      "source": [
        "## GPT-4"
      ]
    },
    {
      "cell_type": "code",
      "execution_count": null,
      "metadata": {
        "id": "WQEJxs_nm-tw"
      },
      "outputs": [],
      "source": [
        "from openai import OpenAI\n",
        "client = OpenAI(api_key = \"\")"
      ]
    },
    {
      "cell_type": "code",
      "execution_count": null,
      "metadata": {
        "id": "mh_Q9FKuo2Hf"
      },
      "outputs": [],
      "source": [
        "def initialize_csv_file(filename, subject):\n",
        "    with open(filename, mode='w', newline='') as file:\n",
        "        writer = csv.writer(file)\n",
        "        writer.writerow([f\"{subject}_Question Number\", f\"{subject}_Correctness\", f\"{subject}_Skill Assessed\", f\"{subject}_Time Taken\"])\n",
        "\n",
        "def update_csv(filename, results, subject):\n",
        "    with open(filename, mode='a', newline='') as file:\n",
        "        writer = csv.writer(file)\n",
        "        # Writing each question's result as a new row\n",
        "        for result in results:\n",
        "            writer.writerow([f\"{subject}_{result[0]}\", result[1], result[2], result[3]])\n",
        "\n",
        "def generate_combined_test_results(test_parts, answers):\n",
        "    combined_model_answers = {}\n",
        "    results = []\n",
        "    start_time = time.time()\n",
        "\n",
        "    for i, part in enumerate(test_parts):\n",
        "        print(f\"Processing part {i+1}...\")  # Debugging print\n",
        "        output = client.chat.completions.create(\n",
        "            model='gpt-4',\n",
        "            messages=[{\"role\": \"user\", \"content\": f\"Please answer the questions with only your letter of choice. Please remove parentheses from your letter of choice. For example, 1. A. The questions:\\n{part}\"}]\n",
        "        )\n",
        "        print(f\"GPT Output for {subject} Part {i+1}: \\n{output.choices[0].message.content}\")\n",
        "        part_model_answers = store_gpt_answers(output)\n",
        "        #print(f\"Answers for part {i+1}: {part_model_answers}\")  # Debugging print\n",
        "        combined_model_answers.update(part_model_answers)\n",
        "\n",
        "    print(\"All parts processed. Combining answers...\")  # Debugging print\n",
        "\n",
        "    end_time = time.time()\n",
        "    run_time = round(end_time - start_time, 2)\n",
        "\n",
        "    answer_key = parse_answer_key(answers)\n",
        "    for question_number, model_answer in combined_model_answers.items():\n",
        "        correctness = 1 if answer_key.get(question_number, ('', ''))[0] == model_answer else 0\n",
        "        skill_assessed = answer_key.get(question_number, ('', ''))[1]\n",
        "        results.append((question_number, correctness, skill_assessed, run_time))\n",
        "\n",
        "    return results\n",
        "\n",
        "def store_gpt_answers(output):\n",
        "    answers_text = output.choices[0].message.content\n",
        "    model_answers = {}\n",
        "    # Pattern to match both \"Number. Letter\" and \"Number. (Letter) Additional Content\"\n",
        "    pattern = re.compile(r'(\\d+)\\s*[.:]?\\s*(?:\\(([A-E])\\)|([A-E]))', re.IGNORECASE)\n",
        "    matches = pattern.findall(answers_text)\n",
        "    for match in matches:\n",
        "        q_num, answer_with_paren, answer_without_paren = match\n",
        "        answer = answer_with_paren or answer_without_paren\n",
        "        model_answers[q_num.strip()] = answer.upper()\n",
        "    return model_answers\n",
        "\n",
        "def parse_answer_key(answers):\n",
        "    answer_key = {}\n",
        "    for line in answers.splitlines():\n",
        "        parts = line.split()\n",
        "        if len(parts) >= 3:\n",
        "            question_number, correct_answer, skill = parts[0], parts[1], ' '.join(parts[2:])\n",
        "            answer_key[question_number] = (correct_answer, skill)\n",
        "    return answer_key\n",
        "\n",
        "# Example usage for a test with multiple parts:\n",
        "subject = \"Physics\"\n",
        "filename = f\"GPT_{subject}_test_results.csv\"\n",
        "test_parts = [history_test_part1, physics_test_part2, physics_test_part3, physics_test_part4]  # Extend this list for more parts\n",
        "answers = history_answers  # Assuming you have a combined answer key for all parts\n",
        "\n",
        "initialize_csv_file(filename, subject)\n",
        "\n",
        "full_test_results = generate_combined_test_results(test_parts, answers)\n",
        "\n",
        "update_csv(filename, full_test_results, subject)\n",
        "print(f\"Test completed in {full_test_results[0][3]} seconds.\\nResults added to {filename}.\")"
      ]
    },
    {
      "cell_type": "markdown",
      "metadata": {
        "id": "fqa2NjhvvOaw"
      },
      "source": [
        "## Gemini Pro"
      ]
    },
    {
      "cell_type": "code",
      "execution_count": 4,
      "metadata": {
        "id": "XuADyPwm6QFx"
      },
      "outputs": [],
      "source": [
        "import google.generativeai as genai\n",
        "genai.configure(api_key=\"\")\n",
        "model = genai.GenerativeModel('gemini-pro')"
      ]
    },
    {
      "cell_type": "code",
      "execution_count": null,
      "metadata": {
        "id": "iox4C97E6QJK"
      },
      "outputs": [],
      "source": [
        "def initialize_csv_file(filename, subject):\n",
        "    with open(filename, mode='w', newline='') as file:\n",
        "        writer = csv.writer(file)\n",
        "        writer.writerow([f\"{subject}_Question Number\", f\"{subject}_Correctness\", f\"{subject}_Skill Assessed\", f\"{subject}_Time Taken\"])\n",
        "\n",
        "def update_csv(filename, results, subject):\n",
        "    with open(filename, mode='a', newline='') as file:\n",
        "        writer = csv.writer(file)\n",
        "        # Writing each question's result as a new row\n",
        "        for result in results:\n",
        "            writer.writerow([f\"{subject}_{result[0]}\", result[1], result[2], result[3]])\n",
        "\n",
        "def generate_combined_test_results(test_parts, answers):\n",
        "    combined_model_answers = {}\n",
        "    results = []\n",
        "    start_time = time.time()\n",
        "\n",
        "    for i, part in enumerate(test_parts):\n",
        "        print(f\"Processing part {i+1}...\")  # Debugging print\n",
        "        response = model.generate_content(f\"Please answer the questions with only your letter of choice. Please remove parentheses from your letter of choice. For example, 1. A. The questions:\\n{part}\")\n",
        "        print(f\"Gemini Output for {subject} Part {i+1}: \\n{response.text}\")\n",
        "        part_model_answers = store_gemini_answers(response)\n",
        "        #print(f\"Answers for part {i+1}: {part_model_answers}\")  # Debugging print\n",
        "        combined_model_answers.update(part_model_answers)\n",
        "\n",
        "    print(\"All parts processed. Combining answers...\")  # Debugging print\n",
        "\n",
        "    end_time = time.time()\n",
        "    run_time = round(end_time - start_time, 2)\n",
        "\n",
        "    answer_key = parse_answer_key(answers)\n",
        "    for question_number, model_answer in combined_model_answers.items():\n",
        "        correctness = 1 if answer_key.get(question_number, ('', ''))[0] == model_answer else 0\n",
        "        skill_assessed = answer_key.get(question_number, ('', ''))[1]\n",
        "        results.append((question_number, correctness, skill_assessed, run_time))\n",
        "\n",
        "    return results\n",
        "\n",
        "def store_gemini_answers(response):\n",
        "    answers_text = response.text\n",
        "    model_answers = {}\n",
        "    # Pattern to match both \"Number. Letter\" and \"Number. (Letter) Additional Content\"\n",
        "    pattern = re.compile(r'(\\d+)\\s*[.:]?\\s*(?:\\(([A-E])\\)|([A-E]))', re.IGNORECASE)\n",
        "    matches = pattern.findall(answers_text)\n",
        "    for match in matches:\n",
        "        q_num, answer_with_paren, answer_without_paren = match\n",
        "        answer = answer_with_paren or answer_without_paren\n",
        "        model_answers[q_num.strip()] = answer.upper()\n",
        "    return model_answers\n",
        "\n",
        "def parse_answer_key(answers):\n",
        "    answer_key = {}\n",
        "    for line in answers.splitlines():\n",
        "        parts = line.split()\n",
        "        if len(parts) >= 3:\n",
        "            question_number, correct_answer, skill = parts[0], parts[1], ' '.join(parts[2:])\n",
        "            answer_key[question_number] = (correct_answer, skill)\n",
        "    return answer_key\n",
        "\n",
        "# Example usage for a test with multiple parts:\n",
        "subject = \"Physics\"\n",
        "filename = f\"Gemini_{subject}_test_results.csv\"\n",
        "test_parts = [physics_test_part1,physics_test_part2, physics_test_part3, physics_test_part4]  # Extend this list for more parts\n",
        "answers = physics_answers  # Assuming you have a combined answer key for all parts\n",
        "initialize_csv_file(filename, subject)\n",
        "\n",
        "full_test_results = generate_combined_test_results(test_parts, answers)\n",
        "\n",
        "update_csv(filename, full_test_results, subject)\n",
        "print(f\"Test completed in {full_test_results[0][3]} seconds. \\nResults added to {filename}.\")"
      ]
    },
    {
      "cell_type": "markdown",
      "metadata": {
        "id": "WSuvkfirvJlG"
      },
      "source": [
        "## Claude 3 Opus"
      ]
    },
    {
      "cell_type": "code",
      "execution_count": null,
      "metadata": {
        "id": "FUfzomCYPB06"
      },
      "outputs": [],
      "source": [
        "import anthropic\n",
        "client = anthropic.Anthropic(api_key=\"\")"
      ]
    },
    {
      "cell_type": "code",
      "execution_count": null,
      "metadata": {
        "id": "eepFXu0mQp5_"
      },
      "outputs": [],
      "source": [
        "def initialize_csv_file(filename, subject):\n",
        "    with open(filename, mode='w', newline='') as file:\n",
        "        writer = csv.writer(file)\n",
        "        writer.writerow([f\"{subject}_Question Number\", f\"{subject}_Correctness\", f\"{subject}_Skill Assessed\", f\"{subject}_Time Taken\"])\n",
        "\n",
        "def update_csv(filename, results, subject):\n",
        "    with open(filename, mode='a', newline='') as file:\n",
        "        writer = csv.writer(file)\n",
        "        # Writing each question's result as a new row\n",
        "        for result in results:\n",
        "            writer.writerow([f\"{subject}_{result[0]}\", result[1], result[2], result[3]])\n",
        "\n",
        "def generate_combined_test_results(test_parts, answers):\n",
        "    combined_model_answers = {}\n",
        "    results = []\n",
        "    start_time = time.time()\n",
        "\n",
        "    for i, part in enumerate(test_parts):\n",
        "        print(f\"Processing part {i+1}...\")  # Debugging print\n",
        "        message = client.messages.create(\n",
        "            max_tokens=1000,\n",
        "            messages=[{\"role\": \"user\",\"content\": f\"Please answer the questions with only your letter of choice. Please remove parentheses from your letter of choice. For example, 1. A. The questions:\\n{part}\"}],\n",
        "            model=\"claude-3-opus-20240229\")\n",
        "        print(f\"Claude Output for {subject} Part {i+1}: \\n{message.content[0].text}\")\n",
        "        part_model_answers = store_claude_answers(message)\n",
        "        #print(f\"Answers for part {i+1}: {part_model_answers}\")  # Debugging print\n",
        "        combined_model_answers.update(part_model_answers)\n",
        "\n",
        "    print(\"All parts processed. Combining answers...\")  # Debugging print\n",
        "\n",
        "    end_time = time.time()\n",
        "    run_time = round(end_time - start_time, 2)\n",
        "\n",
        "    answer_key = parse_answer_key(answers)\n",
        "    for question_number, model_answer in combined_model_answers.items():\n",
        "        correctness = 1 if answer_key.get(question_number, ('', ''))[0] == model_answer else 0\n",
        "        skill_assessed = answer_key.get(question_number, ('', ''))[1]\n",
        "        results.append((question_number, correctness, skill_assessed, run_time))\n",
        "\n",
        "    return results\n",
        "\n",
        "def store_claude_answers(message):\n",
        "    answers_text = message.content[0].text\n",
        "    model_answers = {}\n",
        "    # Pattern to match both \"Number. Letter\" and \"Number. (Letter) Additional Content\"\n",
        "    pattern = re.compile(r'(\\d+)\\s*[.:]?\\s*(?:\\(([A-E])\\)|([A-E]))', re.IGNORECASE)\n",
        "    matches = pattern.findall(answers_text)\n",
        "    for match in matches:\n",
        "        q_num, answer_with_paren, answer_without_paren = match\n",
        "        answer = answer_with_paren or answer_without_paren\n",
        "        model_answers[q_num.strip()] = answer.upper()\n",
        "    return model_answers\n",
        "\n",
        "def parse_answer_key(answers):\n",
        "    answer_key = {}\n",
        "    for line in answers.splitlines():\n",
        "        parts = line.split()\n",
        "        if len(parts) >= 3:\n",
        "            question_number, correct_answer, skill = parts[0], parts[1], ' '.join(parts[2:])\n",
        "            answer_key[question_number] = (correct_answer, skill)\n",
        "    return answer_key\n",
        "\n",
        "# Example usage for a test with multiple parts:\n",
        "subject = \"history\"\n",
        "filename = f\"Claude_{subject}_test_results.csv\"\n",
        "test_parts = [history_test_part1]#, physics_test_part2, physics_test_part3, physics_test_part4]  # Extend this list for more parts\n",
        "answers = history_answers  # Assuming you have a combined answer key for all parts\n",
        "\n",
        "initialize_csv_file(filename, subject)\n",
        "\n",
        "full_test_results = generate_combined_test_results(test_parts, answers)\n",
        "\n",
        "update_csv(filename, full_test_results, subject)\n",
        "print(f\"Test completed in {full_test_results[0][3]} seconds. \\nResults added to {filename}.\")"
      ]
    }
  ],
  "metadata": {
    "colab": {
      "collapsed_sections": [
        "ICmr8kpgorS1",
        "OAwMgVyzzbF5",
        "Bu7uCU350c6R",
        "8St4uaGEo4O9",
        "fqa2NjhvvOaw",
        "WSuvkfirvJlG"
      ],
      "provenance": []
    },
    "kernelspec": {
      "display_name": "Python 3",
      "name": "python3"
    },
    "language_info": {
      "name": "python"
    }
  },
  "nbformat": 4,
  "nbformat_minor": 0
}
