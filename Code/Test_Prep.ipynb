{
 "cells": [
  {
   "cell_type": "markdown",
   "metadata": {},
   "source": [
    "# Image to Caption:"
   ]
  },
  {
   "cell_type": "code",
   "execution_count": null,
   "metadata": {},
   "outputs": [],
   "source": [
    "import os\n",
    "os.getcwd()"
   ]
  },
  {
   "cell_type": "code",
   "execution_count": null,
   "metadata": {},
   "outputs": [],
   "source": [
    "import openai\n",
    "openai.api_key = \"\""
   ]
  },
  {
   "cell_type": "code",
   "execution_count": null,
   "metadata": {},
   "outputs": [],
   "source": [
    "import base64\n",
    "\n",
    "# Function to encode the image\n",
    "def encode_image(image_path):\n",
    "    with open(image_path, \"rb\") as image_file:\n",
    "        return base64.b64encode(image_file.read()).decode('utf-8')"
   ]
  },
  {
   "cell_type": "code",
   "execution_count": null,
   "metadata": {},
   "outputs": [],
   "source": [
    "from IPython.display import display, Image\n",
    "import textwrap\n",
    "\n",
    "# Image 1:\n",
    "\n",
    "image_1 = ''\n",
    "\n",
    "encoded_image_1 = encode_image(image_1)\n",
    "\n",
    "result_1 = openai.chat.completions.create(\n",
    "    model = \"gpt-4-vision-preview\",\n",
    "    messages=[\n",
    "        {\n",
    "            \"role\": \"user\",\n",
    "            \"content\": [\n",
    "                {\"type\": \"text\",\n",
    "                \"text\": \"Can you please tell me what is displayed on this image?\"},\n",
    "                {\"type\": \"image_url\",\n",
    "                \"image_url\": f\"data:image/jpeg;base64,{encoded_image_1}\"},\n",
    "            ]\n",
    "        },\n",
    "    ],\n",
    "    max_tokens=200\n",
    ")\n",
    "description_1 = result_1.choices[0].message.content\n",
    "\n",
    "# Image 2:\n",
    "\n",
    "image_2 = ''\n",
    "\n",
    "encoded_image_2 = encode_image(image_2)\n",
    "\n",
    "result_2 = openai.chat.completions.create(\n",
    "    model = \"gpt-4-vision-preview\",\n",
    "    messages=[\n",
    "        {\n",
    "            \"role\": \"user\",\n",
    "            \"content\": [\n",
    "                {\"type\": \"text\",\n",
    "                \"text\": \"Can you please tell me what is displayed on this image?\"},\n",
    "                {\"type\": \"image_url\",\n",
    "                \"image_url\": f\"data:image/jpeg;base64,{encoded_image_2}\"},\n",
    "            ]\n",
    "        },\n",
    "    ],\n",
    "    max_tokens=200\n",
    ")\n",
    "description_2 = result_2.choices[0].message.content    \n",
    "\n",
    "# Image 3:\n",
    "\n",
    "image_3 = ''\n",
    "\n",
    "encoded_image_3 = encode_image(image_3)\n",
    "\n",
    "result_3 = openai.chat.completions.create(\n",
    "    model = \"gpt-4-vision-preview\",\n",
    "    messages=[\n",
    "        {\n",
    "            \"role\": \"user\",\n",
    "            \"content\": [\n",
    "                {\"type\": \"text\",\n",
    "                \"text\": \"Can you please tell me what is displayed on this image?\"},\n",
    "                {\"type\": \"image_url\",\n",
    "                \"image_url\": f\"data:image/jpeg;base64,{encoded_image_3}\"},\n",
    "            ]\n",
    "        },\n",
    "    ],\n",
    "    max_tokens=200\n",
    ")\n",
    "description_3 = result_3.choices[0].message.content    \n",
    "\n",
    "# Image 4:\n",
    "\n",
    "image_4 = ''\n",
    "\n",
    "encoded_image_4 = encode_image(image_4)\n",
    "\n",
    "result_4 = openai.chat.completions.create(\n",
    "    model = \"gpt-4-vision-preview\",\n",
    "    messages=[\n",
    "        {\n",
    "            \"role\": \"user\",\n",
    "            \"content\": [\n",
    "                {\"type\": \"text\",\n",
    "                \"text\": \"Can you please tell me what is displayed on this image?\"},\n",
    "                {\"type\": \"image_url\",\n",
    "                \"image_url\": f\"data:image/jpeg;base64,{encoded_image_4}\"},\n",
    "            ]\n",
    "        },\n",
    "    ],\n",
    "    max_tokens=200\n",
    ")\n",
    "description_4 = result_4.choices[0].message.content    "
   ]
  },
  {
   "cell_type": "code",
   "execution_count": null,
   "metadata": {},
   "outputs": [],
   "source": [
    "description_1"
   ]
  },
  {
   "cell_type": "code",
   "execution_count": null,
   "metadata": {},
   "outputs": [],
   "source": [
    "description_2"
   ]
  },
  {
   "cell_type": "code",
   "execution_count": null,
   "metadata": {},
   "outputs": [],
   "source": [
    "description_3"
   ]
  },
  {
   "cell_type": "code",
   "execution_count": null,
   "metadata": {},
   "outputs": [],
   "source": [
    "description_4"
   ]
  },
  {
   "cell_type": "markdown",
   "metadata": {},
   "source": [
    "# Question Combiner"
   ]
  },
  {
   "cell_type": "code",
   "execution_count": null,
   "metadata": {},
   "outputs": [
    {
     "name": "stdout",
     "output_type": "stream",
     "text": [
      "File not found: 1 - Kinematics\\Question1.txt\n",
      "File not found: 1 - Kinematics\\Question2.txt\n",
      "File not found: 1 - Kinematics\\Question3.txt\n",
      "File not found: 1 - Kinematics\\Question4.txt\n",
      "File not found: 1 - Kinematics\\Question5.txt\n",
      "File not found: 1 - Kinematics\\Question6.txt\n",
      "File not found: 1 - Kinematics\\Question7.txt\n",
      "File not found: 1 - Kinematics\\Question8.txt\n",
      "File not found: 1 - Kinematics\\Question9.txt\n",
      "File not found: 1 - Kinematics\\Question10.txt\n",
      "File not found: 1 - Kinematics\\Question11.txt\n",
      "File not found: 1 - Kinematics\\Question12.txt\n",
      "File not found: 2 - Dynamics\\Question13.txt\n",
      "File not found: 2 - Dynamics\\Question14.txt\n",
      "File not found: 2 - Dynamics\\Question15.txt\n",
      "File not found: 2 - Dynamics\\Question16.txt\n",
      "File not found: 2 - Dynamics\\Question17.txt\n",
      "File not found: 2 - Dynamics\\Question18.txt\n",
      "File not found: 2 - Dynamics\\Question19.txt\n",
      "File not found: 2 - Dynamics\\Question20.txt\n",
      "File not found: 2 - Dynamics\\Question21.txt\n",
      "File not found: 2 - Dynamics\\Question22.txt\n",
      "File not found: 2 - Dynamics\\Question23.txt\n",
      "File not found: 2 - Dynamics\\Question24.txt\n",
      "File not found: 3 - Circular Motion and Gravitation\\Question25.txt\n",
      "File not found: 3 - Circular Motion and Gravitation\\Question26.txt\n",
      "File not found: 3 - Circular Motion and Gravitation\\Question27.txt\n",
      "File not found: 3 - Circular Motion and Gravitation\\Question28.txt\n",
      "File not found: 3 - Circular Motion and Gravitation\\Question29.txt\n",
      "File not found: 3 - Circular Motion and Gravitation\\Question30.txt\n",
      "File not found: 3 - Circular Motion and Gravitation\\Question31.txt\n",
      "File not found: 3 - Circular Motion and Gravitation\\Question32.txt\n",
      "File not found: 3 - Circular Motion and Gravitation\\Question33.txt\n",
      "File not found: 3 - Circular Motion and Gravitation\\Question34.txt\n",
      "File not found: 4 - Energy\\Question35.txt\n",
      "File not found: 4 - Energy\\Question36.txt\n",
      "File not found: 4 - Energy\\Question37.txt\n",
      "File not found: 4 - Energy\\Question38.txt\n",
      "File not found: 4 - Energy\\Question39.txt\n",
      "File not found: 4 - Energy\\Question40.txt\n",
      "File not found: 4 - Energy\\Question41.txt\n",
      "File not found: 4 - Energy\\Question42.txt\n",
      "File not found: 4 - Energy\\Question43.txt\n",
      "File not found: 4 - Energy\\Question44.txt\n",
      "File not found: 4 - Energy\\Question45.txt\n",
      "File not found: 4 - Energy\\Question46.txt\n",
      "File not found: 4 - Energy\\Question47.txt\n",
      "File not found: 4 - Energy\\Question48.txt\n",
      "File not found: 4 - Energy\\Question49.txt\n",
      "File not found: 5 - Momentum\\Question50.txt\n",
      "File not found: 5 - Momentum\\Question51.txt\n",
      "File not found: 5 - Momentum\\Question52.txt\n",
      "File not found: 5 - Momentum\\Question53.txt\n",
      "File not found: 5 - Momentum\\Question54.txt\n",
      "File not found: 5 - Momentum\\Question55.txt\n",
      "File not found: 5 - Momentum\\Question56.txt\n",
      "File not found: 5 - Momentum\\Question57.txt\n",
      "File not found: 5 - Momentum\\Question58.txt\n",
      "File not found: 5 - Momentum\\Question59.txt\n",
      "File not found: 5 - Momentum\\Question60.txt\n",
      "File not found: 5 - Momentum\\Question61.txt\n",
      "File not found: 6 - Simple Harmonic Motion\\Question62.txt\n",
      "File not found: 6 - Simple Harmonic Motion\\Question63.txt\n",
      "File not found: 6 - Simple Harmonic Motion\\Question64.txt\n",
      "File not found: 6 - Simple Harmonic Motion\\Question65.txt\n",
      "File not found: 6 - Simple Harmonic Motion\\Question66.txt\n",
      "File not found: 6 - Simple Harmonic Motion\\Question67.txt\n",
      "File not found: 6 - Simple Harmonic Motion\\Question68.txt\n",
      "File not found: 6 - Simple Harmonic Motion\\Question69.txt\n",
      "File not found: 6 - Simple Harmonic Motion\\Question70.txt\n",
      "File not found: 6 - Simple Harmonic Motion\\Question71.txt\n",
      "File not found: 7 - Torque & Rotational Motion\\Question72.txt\n",
      "File not found: 7 - Torque & Rotational Motion\\Question73.txt\n",
      "File not found: 7 - Torque & Rotational Motion\\Question74.txt\n",
      "File not found: 7 - Torque & Rotational Motion\\Question75.txt\n",
      "File not found: 7 - Torque & Rotational Motion\\Question76.txt\n",
      "File not found: 7 - Torque & Rotational Motion\\Question77.txt\n",
      "File not found: 7 - Torque & Rotational Motion\\Question78.txt\n",
      "File not found: 7 - Torque & Rotational Motion\\Question79.txt\n",
      "File not found: 7 - Torque & Rotational Motion\\Question80.txt\n",
      "File not found: 7 - Torque & Rotational Motion\\Question81.txt\n",
      "File not found: 7 - Torque & Rotational Motion\\Question82.txt\n",
      "File not found: 7 - Torque & Rotational Motion\\Question83.txt\n",
      "All questions have been combined into test.txt\n"
     ]
    }
   ],
   "source": [
    "import os\n",
    "\n",
    "# Base directory where the folders are located\n",
    "base_dir = \"\"\n",
    "\n",
    "# List of folder names in order\n",
    "folder_names = [\n",
    "    \"1 - Kinematics\",\n",
    "    \"2 - Dynamics\",\n",
    "    \"3 - Circular Motion and Gravitation\",\n",
    "    \"4 - Energy\",\n",
    "    \"5 - Momentum\",\n",
    "    \"6 - Simple Harmonic Motion\",\n",
    "    \"7 - Torque & Rotational Motion\"\n",
    "]\n",
    "\n",
    "# The file to combine all questions into\n",
    "combined_file_path = os.path.join(base_dir, \"test.txt\")\n",
    "\n",
    "# Starting and ending question numbers in each folder\n",
    "# Adjust these as necessary based on your files\n",
    "question_ranges = [\n",
    "    (1, 12),\n",
    "    (13, 24),\n",
    "    # Add the rest of the ranges here\n",
    "    (25, 34),  # Example range, replace with actual\n",
    "    (35, 49),  # Example range, replace with actual\n",
    "    (50, 61),  # Example range, replace with actual\n",
    "    (62, 71),  # Example range, replace with actual\n",
    "    (72, 83)\n",
    "]\n",
    "\n",
    "# Open the combined file for writing\n",
    "with open(combined_file_path, 'w') as combined_file:\n",
    "    # Loop through each folder\n",
    "    for folder_name, (start_question, end_question) in zip(folder_names, question_ranges):\n",
    "        folder_path = os.path.join(base_dir, folder_name)\n",
    "        \n",
    "        # Loop through each question file in the current folder\n",
    "        for question_number in range(start_question, end_question + 1):\n",
    "            question_file_name = f\"Question{question_number}.txt\"\n",
    "            question_file_path = os.path.join(folder_path, question_file_name)\n",
    "            \n",
    "            # Open and read the question file, then write its content to the combined file\n",
    "            try:\n",
    "                with open(question_file_path, 'r') as question_file:\n",
    "                    #add question number\n",
    "                    contents = f\"{question_number}. {question_file.read().strip()}\\n\\n\"\n",
    "                    combined_file.write(contents)\n",
    "            except FileNotFoundError:\n",
    "                print(f\"File not found: {question_file_path}\")\n",
    "                continue\n",
    "\n",
    "print(\"All questions have been combined into\", combined_file_path)\n"
   ]
  },
  {
   "cell_type": "markdown",
   "metadata": {},
   "source": [
    "# Unbiased Answer Skill Assessor"
   ]
  },
  {
   "cell_type": "code",
   "execution_count": 2,
   "metadata": {},
   "outputs": [],
   "source": [
    "import openai\n",
    "openai.api_key = \"\""
   ]
  },
  {
   "cell_type": "code",
   "execution_count": 3,
   "metadata": {},
   "outputs": [
    {
     "name": "stderr",
     "output_type": "stream",
     "text": [
      "\n",
      "KeyboardInterrupt\n",
      "\n"
     ]
    }
   ],
   "source": [
    "test_path = \"\"\n",
    "try:\n",
    "    with open(test_path, 'r', encoding='utf-8') as file:\n",
    "        test = file.read()\n",
    "except UnicodeDecodeError:\n",
    "    with open(test_path, 'r', encoding='cp1252') as file:  \n",
    "        test = file.read()"
   ]
  },
  {
   "cell_type": "code",
   "execution_count": null,
   "metadata": {},
   "outputs": [],
   "source": [
    "output = openai.chat.completions.create(\n",
    "    model='gpt-4',\n",
    "    messages=[{\"role\":\"user\",\n",
    "               \"content\": f\"Please go through each question and indicate which skill is being assessed between Causation, Contextualization, Continuity and Change over Time, Analyzing Historical Evidence, Analyzing Scientific Evidence, and Comparison. PLease output only list of the question number and it's skill {test}\"}]\n",
    ")"
   ]
  },
  {
   "cell_type": "code",
   "execution_count": null,
   "metadata": {},
   "outputs": [],
   "source": [
    "print(output.choices[0].message.content)"
   ]
  },
  {
   "cell_type": "markdown",
   "metadata": {},
   "source": [
    "# Answer Combiner:"
   ]
  },
  {
   "cell_type": "code",
   "execution_count": null,
   "metadata": {},
   "outputs": [],
   "source": [
    "import os\n",
    "\n",
    "# Base directory where the folders are located\n",
    "base_dir = \"\"\n",
    "\n",
    "# List of folder names in order\n",
    "folder_names = [\n",
    "    \"1 - Foundations of American Democracy\",\n",
    "    \"2 - Interactions Among Branches of Government\",\n",
    "    \"3 - Civil Liberties & Civil Rights\",\n",
    "    \"4 - American Poltiical Ideologies & Beliefs\",\n",
    "    \"5 - Political Participation\",\n",
    "]\n",
    "\n",
    "# The file to combine all questions into\n",
    "combined_file_path = os.path.join(base_dir, \"AnswerKey.txt\")\n",
    "\n",
    "# Open the combined file for writing\n",
    "with open(combined_file_path, 'w') as combined_file:\n",
    "    # Loop through each folder\n",
    "    for folder_name in folder_names:\n",
    "        answer_key_path = os.path.join(base_dir, folder_name, \"AnswerKey.txt\")\n",
    "        \n",
    "        # Check if the AnswerKey.txt file exists in the folder\n",
    "        if os.path.exists(answer_key_path):\n",
    "            # Open and read the AnswerKey.txt file, then write its content to the combined file\n",
    "            with open(answer_key_path, 'r') as answer_file:\n",
    "                combined_file.write(answer_file.read())\n",
    "        else:\n",
    "            print(f\"AnswerKey.txt not found in {folder_name}\")\n",
    "\n",
    "print(f\"All answer keys have been combined into {combined_file_path}\")"
   ]
  },
  {
   "cell_type": "markdown",
   "metadata": {},
   "source": [
    "# Skill and Answer Combiner:"
   ]
  },
  {
   "cell_type": "code",
   "execution_count": null,
   "metadata": {},
   "outputs": [],
   "source": [
    "def parse_file(file_path, delimiter=\" \"):\n",
    "    \"\"\"Parse a file and return a dictionary of question numbers to content.\"\"\"\n",
    "    data = {}\n",
    "    with open(file_path, 'r') as file:\n",
    "        for line in file:\n",
    "            parts = line.strip().split(delimiter, 1)\n",
    "            if len(parts) == 2:\n",
    "                data[parts[0]] = parts[1]\n",
    "    return data\n",
    "\n",
    "def update_answer_key(skills_file, answer_key_file, updated_answer_key_file):\n",
    "    # Parse the skills file and the answer key file\n",
    "    skills = parse_file(skills_file, delimiter=\". \")\n",
    "    answer_keys = parse_file(answer_key_file, delimiter=\" \")\n",
    "\n",
    "    # Update the answer keys with skill names\n",
    "    with open(updated_answer_key_file, 'w') as updated_file:\n",
    "        for question_number, answer in answer_keys.items():\n",
    "            skill_name = skills.get(question_number, \"Skill_name not found\")\n",
    "            updated_line = f\"{question_number} {answer} {skill_name}\\n\"\n",
    "            updated_file.write(updated_line)\n",
    "\n",
    "# Specify your file paths\n",
    "skills_file_path = \"\"\n",
    "answer_key_file_path = \"\"\n",
    "updated_answer_key_file_path = \"\"\n",
    "\n",
    "# Update the AnswerKey file with skill names\n",
    "update_answer_key(skills_file_path, answer_key_file_path, updated_answer_key_file_path)\n",
    "\n",
    "print(\"Updated AnswerKey file has been created.\")"
   ]
  }
 ],
 "metadata": {
  "kernelspec": {
   "display_name": "Python_Analysis",
   "language": "python",
   "name": "python3"
  },
  "language_info": {
   "codemirror_mode": {
    "name": "ipython",
    "version": 3
   },
   "file_extension": ".py",
   "mimetype": "text/x-python",
   "name": "python",
   "nbconvert_exporter": "python",
   "pygments_lexer": "ipython3",
   "version": "3.11.5"
  }
 },
 "nbformat": 4,
 "nbformat_minor": 2
}
